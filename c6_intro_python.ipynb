{
  "cells": [
    {
      "cell_type": "markdown",
      "metadata": {
        "id": "view-in-github",
        "colab_type": "text"
      },
      "source": [
        "<a href=\"https://colab.research.google.com/github/DaniChav/gbi6g012022I/blob/main/c6_intro_python.ipynb\" target=\"_parent\"><img src=\"https://colab.research.google.com/assets/colab-badge.svg\" alt=\"Open In Colab\"/></a>"
      ]
    },
    {
      "cell_type": "code",
      "execution_count": null,
      "metadata": {
        "id": "EUbdgHygzlrj"
      },
      "outputs": [],
      "source": [
        ""
      ]
    },
    {
      "cell_type": "markdown",
      "metadata": {
        "id": "CmnbMeV5zt45"
      },
      "source": [
        "# BIOINFORMATICA\n",
        "\n",
        "## CLASE 6: Introducción a Python\n",
        "En esta clase vamos a revisar los siguientes contenidos:\n",
        "1. Historia de Python\n",
        "2. Tipos de datos\n",
        "3. Operaciones con números\n",
        "4. Operaciones con texto\n",
        "\n",
        "## 1. HISTORIA PYTHON\n",
        "La historia de Python se puede leer en la página web [python](https://www.python.org/doc/)"
      ]
    },
    {
      "cell_type": "markdown",
      "metadata": {
        "id": "zXzkBpb81F4m"
      },
      "source": [
        "## 2. TIPOS DE DATOS\n",
        "\n",
        "- Númericos: enteros (integer, int), decimales (double), complejos (complex).\n",
        "- Lógicos: Verdadero (TRUE, T), Falso (FALSE, F).\n",
        "- Texto: Cadena de caracteres \"Siempre entre comillas\""
      ]
    },
    {
      "cell_type": "markdown",
      "metadata": {
        "id": "tnDcU5BQ8Vr-"
      },
      "source": [
        "## 3. OPERACIONES CON NÚMEROS"
      ]
    },
    {
      "cell_type": "code",
      "execution_count": null,
      "metadata": {
        "id": "fQCV3JhL3AdT"
      },
      "outputs": [],
      "source": [
        "gen1_r = 1.5\n",
        "gen1_h = 1.7\n",
        "dif_gen1 = gen1_r - gen1_h\n",
        "ratio_gen1 = gen1_r / gen1_h"
      ]
    },
    {
      "cell_type": "code",
      "execution_count": null,
      "metadata": {
        "colab": {
          "base_uri": "https://localhost:8080/"
        },
        "id": "hxKaTcSQ6Yfv",
        "outputId": "4f936bea-effa-478c-f56a-e4dcd7e6e53d"
      },
      "outputs": [
        {
          "name": "stdout",
          "output_type": "stream",
          "text": [
            "gen1_h: 1.7\n",
            "gen1_r: 1.5\n",
            "dif_gen1: -0.19999999999999996\n",
            "ratio_gen1 0.8823529411764706\n"
          ]
        }
      ],
      "source": [
        "print (\"gen1_h:\", gen1_h)\n",
        "print (\"gen1_r:\", gen1_r)\n",
        "print (\"dif_gen1:\", dif_gen1)\n",
        "print (\"ratio_gen1\", ratio_gen1)"
      ]
    },
    {
      "cell_type": "markdown",
      "metadata": {
        "id": "-qmdniJc8duZ"
      },
      "source": [
        "## 4. OPERACIONES CON TEXTO"
      ]
    },
    {
      "cell_type": "code",
      "execution_count": null,
      "metadata": {
        "colab": {
          "base_uri": "https://localhost:8080/",
          "height": 36
        },
        "id": "WzDacd4o9t5I",
        "outputId": "a8145e58-2484-4176-f13d-72d49b0037f8"
      },
      "outputs": [
        {
          "data": {
            "application/vnd.google.colaboratory.intrinsic+json": {
              "type": "string"
            },
            "text/plain": [
              "'dani estuvo aqui'"
            ]
          },
          "execution_count": 40,
          "metadata": {},
          "output_type": "execute_result"
        }
      ],
      "source": [
        "Saludo = \"dani estuvo aqui\"\n",
        "Saludo"
      ]
    },
    {
      "cell_type": "code",
      "execution_count": null,
      "metadata": {
        "colab": {
          "base_uri": "https://localhost:8080/",
          "height": 36
        },
        "id": "HwCKtSh28g1U",
        "outputId": "c297184a-ec7c-4a9e-9f4c-0e3587dc76db"
      },
      "outputs": [
        {
          "data": {
            "application/vnd.google.colaboratory.intrinsic+json": {
              "type": "string"
            },
            "text/plain": [
              "'Dani estuvo aqui'"
            ]
          },
          "execution_count": 41,
          "metadata": {},
          "output_type": "execute_result"
        }
      ],
      "source": [
        "Saludo = \"dani estuvo aqui\"\n",
        "Saludo.capitalize()"
      ]
    },
    {
      "cell_type": "code",
      "execution_count": null,
      "metadata": {
        "colab": {
          "base_uri": "https://localhost:8080/",
          "height": 36
        },
        "id": "RFn_GYZZ9UhU",
        "outputId": "f417528f-dc8a-45cf-dd57-57d00eb32276"
      },
      "outputs": [
        {
          "data": {
            "application/vnd.google.colaboratory.intrinsic+json": {
              "type": "string"
            },
            "text/plain": [
              "'DANI ESTUVO AQUI'"
            ]
          },
          "execution_count": 42,
          "metadata": {},
          "output_type": "execute_result"
        }
      ],
      "source": [
        "Saludo = \"dani estuvo aqui\"\n",
        "Saludo.upper()"
      ]
    },
    {
      "cell_type": "code",
      "execution_count": null,
      "metadata": {
        "colab": {
          "base_uri": "https://localhost:8080/"
        },
        "id": "3c04qwuL91DZ",
        "outputId": "a23cc864-9659-4941-d4a5-1908a57dc64b"
      },
      "outputs": [
        {
          "data": {
            "text/plain": [
              "16"
            ]
          },
          "execution_count": 43,
          "metadata": {},
          "output_type": "execute_result"
        }
      ],
      "source": [
        "len(Saludo)"
      ]
    },
    {
      "cell_type": "code",
      "execution_count": null,
      "metadata": {
        "colab": {
          "base_uri": "https://localhost:8080/"
        },
        "id": "s1ZUrOeM-zlw",
        "outputId": "8b7986bb-91dd-4bc0-c2a5-feef4b42d804"
      },
      "outputs": [
        {
          "name": "stdout",
          "output_type": "stream",
          "text": [
            "Porcentaje de a: 12.5\n"
          ]
        }
      ],
      "source": [
        "# En este bloque se revisa el uso combinado de funciones (combinación de funciones)\n",
        "Total = len(Saludo)\n",
        "char_a = Saludo.count(\"a\")\n",
        "ratio_a = 100*char_a/Total\n",
        "print(\"Porcentaje de a:\", ratio_a)"
      ]
    },
    {
      "cell_type": "code",
      "execution_count": null,
      "metadata": {
        "colab": {
          "base_uri": "https://localhost:8080/"
        },
        "id": "yphI8STaABvA",
        "outputId": "5ccce412-91fe-496d-ea05-2e5e63469af3"
      },
      "outputs": [
        {
          "data": {
            "text/plain": [
              "12.5"
            ]
          },
          "execution_count": 45,
          "metadata": {},
          "output_type": "execute_result"
        }
      ],
      "source": [
        "round(ratio_a, 2)"
      ]
    },
    {
      "cell_type": "markdown",
      "metadata": {
        "id": "AlLqnfbuARnV"
      },
      "source": [
        "## EJEMPLO\n",
        "\n",
        "## PORCENTAJE DE GC\n",
        "Calcular el porcentaje de contenido de nucleótidos G y C en la siguiente secuencia"
      ]
    },
    {
      "cell_type": "code",
      "execution_count": 93,
      "metadata": {
        "id": "Ltzt74crB3E6"
      },
      "outputs": [],
      "source": [
        "p53_l1 = \"TTCCTGGNCTGTAGGTAGCGACTACAGTTAGGGGGCACCTAGCATTCAGGCCCTCATCCTCCTCCTTCCCAGCAGGGTGTCACGCTTCTCCGAAGACTGGATGACTGCCATGGAGGAGTCACAGTCGGATATCAGCCTCGAGCTCCCTCTGAGCCAGGAGACATTTTCAGGCTTATGGAAACTACTTCCTCCAGAAGATATCCTGCCATC\""
      ]
    },
    {
      "cell_type": "code",
      "execution_count": 94,
      "metadata": {
        "colab": {
          "base_uri": "https://localhost:8080/"
        },
        "id": "71MZNmrEC65A",
        "outputId": "1f6b2175-9019-4301-da0c-4c02aa918d08"
      },
      "outputs": [
        {
          "output_type": "stream",
          "name": "stdout",
          "text": [
            "54.285714285714285\n"
          ]
        }
      ],
      "source": [
        "Porcentaje = 100*(p53_l1.count(\"G\") + p53_l1.count(\"C\")) / len(p53_l1)\n",
        "print(Porcentaje)"
      ]
    },
    {
      "cell_type": "code",
      "execution_count": 95,
      "metadata": {
        "colab": {
          "base_uri": "https://localhost:8080/"
        },
        "id": "9BxQlIRiDkSR",
        "outputId": "46232417-0423-443a-d8a8-7dc9bf7c04e5"
      },
      "outputs": [
        {
          "output_type": "stream",
          "name": "stdout",
          "text": [
            "Porcentaje GC en p53_l1: 54.286\n"
          ]
        }
      ],
      "source": [
        "Percent_GC = 100*(p53_l1.count(\"G\") + p53_l1.count(\"C\"))/len(p53_l1)\n",
        "print(\"Porcentaje GC en p53_l1:\", round(Percent_GC, 3))"
      ]
    },
    {
      "cell_type": "markdown",
      "metadata": {
        "id": "LgWshFTgMhl9"
      },
      "source": [
        "Cómo hacer un subconjunto (codón de inicio: TAC, codón de pare: ATT,ATC,ACT)"
      ]
    },
    {
      "cell_type": "code",
      "execution_count": 96,
      "metadata": {
        "colab": {
          "base_uri": "https://localhost:8080/"
        },
        "id": "_i2zgvx8Mkle",
        "outputId": "b11b5f3d-44d9-442b-eb41-a3cd988008fc"
      },
      "outputs": [
        {
          "output_type": "stream",
          "name": "stdout",
          "text": [
            "TTCCTGGNCTGTAGGTAGCGACTACAGTTAGGGGGCACCTAGCATTCAGGCCCTCATCCTCCTCCTTCCCAGCAGGGTGTCACGCTTCTCCGAAGACTGGATGACTGCCATGGAGGAGTCACAGTCGGATATCAGCCTCGAGCTCCCTCTGAGCCAGGAGACATTTTCAGGCTTATGGAAACTACTTCCTCCAGAAGATATCCTGCCATC\n"
          ]
        }
      ],
      "source": [
        "# Subconjunto\n",
        "print(p53_l1)"
      ]
    },
    {
      "cell_type": "code",
      "execution_count": 97,
      "metadata": {
        "colab": {
          "base_uri": "https://localhost:8080/"
        },
        "id": "LuvZY2KcN4-S",
        "outputId": "416a6e98-0dd7-4b49-eb1a-664c399531d2"
      },
      "outputs": [
        {
          "output_type": "execute_result",
          "data": {
            "text/plain": [
              "22"
            ]
          },
          "metadata": {},
          "execution_count": 97
        }
      ],
      "source": [
        "p53_l1.find(\"TAC\")"
      ]
    },
    {
      "cell_type": "code",
      "execution_count": 98,
      "metadata": {
        "id": "78VRwqXWOMhU"
      },
      "outputs": [],
      "source": [
        "# El find identifica la posición en la que se encuentra la información entre \"\"\n",
        "fi = p53_l1.find(\"TAC\") # Si se tiene\n",
        "ff1 = p53_l1.find(\"ATT\") # Si se tiene\n",
        "ff2 = p53_l1.find(\"ATC\")\n",
        "ff3 = p53_l1.find(\"ACT\")"
      ]
    },
    {
      "cell_type": "code",
      "execution_count": 99,
      "metadata": {
        "colab": {
          "base_uri": "https://localhost:8080/"
        },
        "id": "L3p5fxVPOhUr",
        "outputId": "6d365994-1ae8-4012-aad0-8507fcb84d32"
      },
      "outputs": [
        {
          "output_type": "execute_result",
          "data": {
            "text/plain": [
              "22"
            ]
          },
          "metadata": {},
          "execution_count": 99
        }
      ],
      "source": [
        "fi"
      ]
    },
    {
      "cell_type": "code",
      "execution_count": 100,
      "metadata": {
        "colab": {
          "base_uri": "https://localhost:8080/"
        },
        "id": "UKSm3LABOkrG",
        "outputId": "3988a4a1-6456-49a7-ecd8-3edf3f09f295"
      },
      "outputs": [
        {
          "output_type": "execute_result",
          "data": {
            "text/plain": [
              "43"
            ]
          },
          "metadata": {},
          "execution_count": 100
        }
      ],
      "source": [
        "ff1"
      ]
    },
    {
      "cell_type": "code",
      "execution_count": 101,
      "metadata": {
        "colab": {
          "base_uri": "https://localhost:8080/"
        },
        "id": "cGFDhlRHOn8K",
        "outputId": "1fd3e52f-f329-4f5a-940d-c78671a1f78b"
      },
      "outputs": [
        {
          "output_type": "execute_result",
          "data": {
            "text/plain": [
              "55"
            ]
          },
          "metadata": {},
          "execution_count": 101
        }
      ],
      "source": [
        "ff2"
      ]
    },
    {
      "cell_type": "code",
      "execution_count": 102,
      "metadata": {
        "colab": {
          "base_uri": "https://localhost:8080/"
        },
        "id": "O26h3d5yOqdw",
        "outputId": "caca1763-cc7e-437c-f4b4-5e36356134a8"
      },
      "outputs": [
        {
          "output_type": "execute_result",
          "data": {
            "text/plain": [
              "20"
            ]
          },
          "metadata": {},
          "execution_count": 102
        }
      ],
      "source": [
        "ff3"
      ]
    },
    {
      "cell_type": "markdown",
      "metadata": {
        "id": "n9ZStafKO7pH"
      },
      "source": [
        "Subconjuntos: defino el punto de inicio (n) y el punto final (m) -->\n",
        "seq [n:m]"
      ]
    },
    {
      "cell_type": "code",
      "execution_count": 103,
      "metadata": {
        "colab": {
          "base_uri": "https://localhost:8080/",
          "height": 36
        },
        "id": "PzC1yvXKPCxI",
        "outputId": "6e0234b3-dba5-4f5e-d4a9-c0a11d982893"
      },
      "outputs": [
        {
          "output_type": "execute_result",
          "data": {
            "text/plain": [
              "'CTG'"
            ],
            "application/vnd.google.colaboratory.intrinsic+json": {
              "type": "string"
            }
          },
          "metadata": {},
          "execution_count": 103
        }
      ],
      "source": [
        "#El conteo de los elementos en Python comienza en 0. La primera letra de la secuencia es T y equivale a 0 y solamente toma hasta una letra antes del elemento final (m)\n",
        "p53_l1[3:6]"
      ]
    },
    {
      "cell_type": "code",
      "execution_count": 104,
      "metadata": {
        "colab": {
          "base_uri": "https://localhost:8080/",
          "height": 36
        },
        "id": "IWw5t-S-QE1K",
        "outputId": "bd7b5ff8-0770-47c5-af06-821cfb6c5807"
      },
      "outputs": [
        {
          "output_type": "execute_result",
          "data": {
            "text/plain": [
              "'TT'"
            ],
            "application/vnd.google.colaboratory.intrinsic+json": {
              "type": "string"
            }
          },
          "metadata": {},
          "execution_count": 104
        }
      ],
      "source": [
        "p53_l1[0:2]"
      ]
    },
    {
      "cell_type": "code",
      "execution_count": 105,
      "metadata": {
        "colab": {
          "base_uri": "https://localhost:8080/",
          "height": 36
        },
        "id": "3dMWgaPvQev0",
        "outputId": "e7e2688d-da6b-4a9a-8920-cc0dd60c462d"
      },
      "outputs": [
        {
          "output_type": "execute_result",
          "data": {
            "text/plain": [
              "'TACAGTTAGGGGGCACCTAGCATT'"
            ],
            "application/vnd.google.colaboratory.intrinsic+json": {
              "type": "string"
            }
          },
          "metadata": {},
          "execution_count": 105
        }
      ],
      "source": [
        "# Obtengo mi mRNA (secuencia codificante)\n",
        "#Coloco +3 ya que necesito que me muestre el codón final\n",
        "\n",
        "mRNA_f1 = p53_l1[fi:ff1+3]\n",
        "mRNA_f1"
      ]
    },
    {
      "cell_type": "markdown",
      "metadata": {
        "id": "mSuMy03FRkrw"
      },
      "source": [
        "Obtención de la cadena complementaria"
      ]
    },
    {
      "cell_type": "code",
      "execution_count": 106,
      "metadata": {
        "colab": {
          "base_uri": "https://localhost:8080/",
          "height": 53
        },
        "id": "XfZZCRutRnPR",
        "outputId": "15fc1de4-98db-4f1a-eef5-6e0d99f14ad3"
      },
      "outputs": [
        {
          "output_type": "stream",
          "name": "stdout",
          "text": [
            "dani estuvo aqui\n"
          ]
        },
        {
          "output_type": "execute_result",
          "data": {
            "text/plain": [
              "'dxni estuvo xqui'"
            ],
            "application/vnd.google.colaboratory.intrinsic+json": {
              "type": "string"
            }
          },
          "metadata": {},
          "execution_count": 106
        }
      ],
      "source": [
        "# Cadena complementaria\n",
        "# Ejemplo con Saludo, reemplazo la letra \"a\" por la letra \"x\"\n",
        "\n",
        "print(Saludo)\n",
        "Saludo. replace(\"a\", \"x\")"
      ]
    },
    {
      "cell_type": "code",
      "execution_count": 107,
      "metadata": {
        "colab": {
          "base_uri": "https://localhost:8080/",
          "height": 53
        },
        "id": "gbvBlkPDSbPi",
        "outputId": "7246698b-084c-440f-9c7e-4d36f342892b"
      },
      "outputs": [
        {
          "output_type": "execute_result",
          "data": {
            "text/plain": [
              "'TTCCTGGNCTGTtGGTtGCGtCTtCtGTTtGGGGGCtCCTtGCtTTCtGGCCCTCtTCCTCCTCCTTCCCtGCtGGGTGTCtCGCTTCTCCGttGtCTGGtTGtCTGCCtTGGtGGtGTCtCtGTCGGtTtTCtGCCTCGtGCTCCCTCTGtGCCtGGtGtCtTTTTCtGGCTTtTGGtttCTtCTTCCTCCtGttGtTtTCCTGCCtTC'"
            ],
            "application/vnd.google.colaboratory.intrinsic+json": {
              "type": "string"
            }
          },
          "metadata": {},
          "execution_count": 107
        }
      ],
      "source": [
        "# Cambio \"A\" por \"t\"\n",
        "p53_l1.replace(\"A\", \"t\")"
      ]
    },
    {
      "cell_type": "code",
      "execution_count": 108,
      "metadata": {
        "colab": {
          "base_uri": "https://localhost:8080/",
          "height": 53
        },
        "id": "Dw84ZDLwSz76",
        "outputId": "bf345fb4-d755-45f2-a428-ca3f953522c2"
      },
      "outputs": [
        {
          "output_type": "execute_result",
          "data": {
            "text/plain": [
              "'aaggaccNgacatccatcgctgatgtcaatcccccgtggatcgtaagtccgggagtaggaggaggaagggtcgtcccacagtgcgaagaggcttctgacctactgacggtacctcctcagtgtcagcctatagtcggagctcgagggagactcggtcctctgtaaaagtccgaatacctttgatgaaggaggtcttctataggacggtag'"
            ],
            "application/vnd.google.colaboratory.intrinsic+json": {
              "type": "string"
            }
          },
          "metadata": {},
          "execution_count": 108
        }
      ],
      "source": [
        "# Como quiero cambiar a todos los nucleotidos y conseguir la cadena complementaria, debo ir cambiando en la nueva cadena\n",
        "\n",
        "p53_a =p53_l1.replace(\"A\", \"t\")\n",
        "p53_t =p53_a.replace(\"T\", \"a\")\n",
        "p53_g =p53_t.replace(\"G\", \"c\")\n",
        "p53_c =p53_g.replace(\"C\", \"g\")\n",
        "p53_c"
      ]
    },
    {
      "cell_type": "code",
      "execution_count": 109,
      "metadata": {
        "colab": {
          "base_uri": "https://localhost:8080/"
        },
        "id": "qH6-39JnTu42",
        "outputId": "ea6974c7-ffb3-4fb9-8675-bbbbd5b3d96f"
      },
      "outputs": [
        {
          "output_type": "stream",
          "name": "stdout",
          "text": [
            "TTCCTGGNCTGTAGGTAGCGACTACAGTTAGGGGGCACCTAGCATTCAGGCCCTCATCCTCCTCCTTCCCAGCAGGGTGTCACGCTTCTCCGAAGACTGGATGACTGCCATGGAGGAGTCACAGTCGGATATCAGCCTCGAGCTCCCTCTGAGCCAGGAGACATTTTCAGGCTTATGGAAACTACTTCCTCCAGAAGATATCCTGCCATC\n",
            "AAGGACCNGACATCCATCGCTGATGTCAATCCCCCGTGGATCGTAAGTCCGGGAGTAGGAGGAGGAAGGGTCGTCCCACAGTGCGAAGAGGCTTCTGACCTACTGACGGTACCTCCTCAGTGTCAGCCTATAGTCGGAGCTCGAGGGAGACTCGGTCCTCTGTAAAAGTCCGAATACCTTTGATGAAGGAGGTCTTCTATAGGACGGTAG\n"
          ]
        }
      ],
      "source": [
        "p53_l1c = p53_c.upper()\n",
        "print(p53_l1) # Cadena base (inicial)\n",
        "print(p53_l1c) # Cadena complementaria a la cadena base"
      ]
    },
    {
      "cell_type": "markdown",
      "metadata": {
        "id": "a6qGHbqaVTZ5"
      },
      "source": [
        "Para que sea la cadena complementaria debo darle la vuelta a p53_l1c"
      ]
    },
    {
      "cell_type": "code",
      "execution_count": 110,
      "metadata": {
        "colab": {
          "base_uri": "https://localhost:8080/",
          "height": 53
        },
        "id": "S5afOW_1Vox_",
        "outputId": "8481e8f3-6998-4abd-c9b5-10bca17af490"
      },
      "outputs": [
        {
          "output_type": "execute_result",
          "data": {
            "text/plain": [
              "'GATGGCAGGATATCTTCTGGAGGAAGTAGTTTCCATAAGCCTGAAAATGTCTCCTGGCTCAGAGGGAGCTCGAGGCTGATATCCGACTGTGACTCCTCCATGGCAGTCATCCAGTCTTCGGAGAAGCGTGACACCCTGCTGGGAAGGAGGAGGATGAGGGCCTGAATGCTAGGTGCCCCCTAACTGTAGTCGCTACCTACAGNCCAGGAA'"
            ],
            "application/vnd.google.colaboratory.intrinsic+json": {
              "type": "string"
            }
          },
          "metadata": {},
          "execution_count": 110
        }
      ],
      "source": [
        "p53_l1c_r = p53_l1c[::-1]\n",
        "p53_l1c_r"
      ]
    },
    {
      "cell_type": "code",
      "execution_count": 111,
      "metadata": {
        "colab": {
          "base_uri": "https://localhost:8080/"
        },
        "id": "KwsZIXf-WbyK",
        "outputId": "645c8492-d941-4e4c-8ed9-ff6f91bd5335"
      },
      "outputs": [
        {
          "output_type": "stream",
          "name": "stdout",
          "text": [
            "TTCCTGGNCTGTAGGTAGCGACTACAGTTAGGGGGCACCTAGCATTCAGGCCCTCATCCTCCTCCTTCCCAGCAGGGTGTCACGCTTCTCCGAAGACTGGATGACTGCCATGGAGGAGTCACAGTCGGATATCAGCCTCGAGCTCCCTCTGAGCCAGGAGACATTTTCAGGCTTATGGAAACTACTTCCTCCAGAAGATATCCTGCCATC\n",
            "AAGGACCNGACATCCATCGCTGATGTCAATCCCCCGTGGATCGTAAGTCCGGGAGTAGGAGGAGGAAGGGTCGTCCCACAGTGCGAAGAGGCTTCTGACCTACTGACGGTACCTCCTCAGTGTCAGCCTATAGTCGGAGCTCGAGGGAGACTCGGTCCTCTGTAAAAGTCCGAATACCTTTGATGAAGGAGGTCTTCTATAGGACGGTAG\n",
            "GATGGCAGGATATCTTCTGGAGGAAGTAGTTTCCATAAGCCTGAAAATGTCTCCTGGCTCAGAGGGAGCTCGAGGCTGATATCCGACTGTGACTCCTCCATGGCAGTCATCCAGTCTTCGGAGAAGCGTGACACCCTGCTGGGAAGGAGGAGGATGAGGGCCTGAATGCTAGGTGCCCCCTAACTGTAGTCGCTACCTACAGNCCAGGAA\n"
          ]
        }
      ],
      "source": [
        "print(p53_l1) # Secuencia base (original)\n",
        "print(p53_l1c) # Secuencia complementaria\n",
        "print(p53_l1c_r) # Secuencia complementaria reversa (transposición)"
      ]
    },
    {
      "cell_type": "markdown",
      "metadata": {
        "id": "UvEDrELbXHzF"
      },
      "source": [
        "Encuentro el mRNA de la cadena complementaria reversa"
      ]
    },
    {
      "cell_type": "code",
      "execution_count": 112,
      "metadata": {
        "colab": {
          "base_uri": "https://localhost:8080/",
          "height": 53
        },
        "id": "FX6IZLKrXdne",
        "outputId": "58fcd112-0f0d-416a-d33d-a28e9ddd888d"
      },
      "outputs": [
        {
          "output_type": "execute_result",
          "data": {
            "text/plain": [
              "'GATGGCAGGATATCTTCTGGAGGAAGTAGTTTCCATAAGCCTGAAAATGTCTCCTGGCTCAGAGGGAGCTCGAGGCTGATATCCGACTGTGACTCCTCCATGGCAGTCATCCAGTCTTCGGAGAAGCGTGACACCCTGCTGGGAAGGAGGAGGATGAGGGCCTGAATGCTAGGTGCCCCCTAACTGTAGTCGCTACCTACAGNCCAGGAA'"
            ],
            "application/vnd.google.colaboratory.intrinsic+json": {
              "type": "string"
            }
          },
          "metadata": {},
          "execution_count": 112
        }
      ],
      "source": [
        "p53_l1c_r"
      ]
    },
    {
      "cell_type": "code",
      "execution_count": 120,
      "metadata": {
        "colab": {
          "base_uri": "https://localhost:8080/",
          "height": 36
        },
        "id": "Wwl2wnWyXK36",
        "outputId": "343ff261-47c4-484b-ad42-34f31aaede4f"
      },
      "outputs": [
        {
          "output_type": "execute_result",
          "data": {
            "text/plain": [
              "''"
            ],
            "application/vnd.google.colaboratory.intrinsic+json": {
              "type": "string"
            }
          },
          "metadata": {},
          "execution_count": 120
        }
      ],
      "source": [
        "ficr = p53_l1c_r.find(\"TAC\") \n",
        "ff1cr = p53_l1c_r.find(\"ATT\")\n",
        "ff2cr = p53_l1c_r.find(\"ATC\")\n",
        "ff3cr = p53_l1c_r.find(\"ACT\")\n",
        "mRNA_f1cr = p53_l1[ficr:ff3cr+3]\n",
        "mRNA_f1cr"
      ]
    },
    {
      "cell_type": "code",
      "source": [
        "ficr"
      ],
      "metadata": {
        "id": "39mUSHW7dPM9",
        "outputId": "1254de7f-12d4-4363-86b0-52121b5b1d27",
        "colab": {
          "base_uri": "https://localhost:8080/"
        }
      },
      "execution_count": 116,
      "outputs": [
        {
          "output_type": "execute_result",
          "data": {
            "text/plain": [
              "193"
            ]
          },
          "metadata": {},
          "execution_count": 116
        }
      ]
    },
    {
      "cell_type": "code",
      "source": [
        "ff1cr"
      ],
      "metadata": {
        "id": "jzvjheVmdVZS",
        "outputId": "b6d43680-8510-4c92-8e12-e0130863d91a",
        "colab": {
          "base_uri": "https://localhost:8080/"
        }
      },
      "execution_count": 117,
      "outputs": [
        {
          "output_type": "execute_result",
          "data": {
            "text/plain": [
              "-1"
            ]
          },
          "metadata": {},
          "execution_count": 117
        }
      ]
    },
    {
      "cell_type": "code",
      "source": [
        "ff2cr"
      ],
      "metadata": {
        "id": "V_p8-IpmdYry",
        "outputId": "039bace5-9178-442a-f054-99f1db0e6050",
        "colab": {
          "base_uri": "https://localhost:8080/"
        }
      },
      "execution_count": 118,
      "outputs": [
        {
          "output_type": "execute_result",
          "data": {
            "text/plain": [
              "11"
            ]
          },
          "metadata": {},
          "execution_count": 118
        }
      ]
    },
    {
      "cell_type": "code",
      "source": [
        "ff3cr"
      ],
      "metadata": {
        "id": "ogAIGKW3dav5",
        "outputId": "9cef0056-d979-425a-f69d-518d6a5911c7",
        "colab": {
          "base_uri": "https://localhost:8080/"
        }
      },
      "execution_count": 119,
      "outputs": [
        {
          "output_type": "execute_result",
          "data": {
            "text/plain": [
              "85"
            ]
          },
          "metadata": {},
          "execution_count": 119
        }
      ]
    }
  ],
  "metadata": {
    "colab": {
      "collapsed_sections": [],
      "name": "c6_intro_python.ipynb",
      "provenance": [],
      "authorship_tag": "ABX9TyOh1NREhBcwWzlLiWDLbM+e",
      "include_colab_link": true
    },
    "kernelspec": {
      "display_name": "Python 3",
      "name": "python3"
    },
    "language_info": {
      "name": "python"
    }
  },
  "nbformat": 4,
  "nbformat_minor": 0
}