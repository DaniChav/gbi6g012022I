{
 "cells": [
  {
   "cell_type": "markdown",
   "id": "bab9030f",
   "metadata": {},
   "source": [
    "<img src=\"https://www.ikiam.edu.ec/img/logo-ikiam-grey.png\" width=500 height=400 />\n",
    "\n",
    "## <center><h1> INGENIERÍA EN BIOTECNOLOGÍA</h2></center>\n",
    "\n",
    "# <center><h2 style=\"color:black; background-color:orange;\">GBI6 - BIOINFORMÁTICA</h1></center>\n",
    "\n",
    "## <center><h2> Daniela Alejandra Chávez Carranza</h2></center>"
   ]
  },
  {
   "cell_type": "markdown",
   "id": "fcefdd48",
   "metadata": {},
   "source": [
    "## Módulo con las tres funciones para la creación de una población y sus generaciones"
   ]
  },
  {
   "cell_type": "code",
   "execution_count": 1,
   "id": "eea882b9",
   "metadata": {},
   "outputs": [],
   "source": [
    "# Función 1\n",
    "def build_population(N, p):\n",
    "    \"\"\"\n",
    "    The population consists of N individuals.Each individual has two chromosomes, containing\n",
    "    allele \"A\" or \"a\", with probability p or 1-p, respectively.The population is a list of tuples.\n",
    "    \"\"\"\n",
    "    population = []\n",
    "    for i in range(N):\n",
    "        allele1 = \"A\"\n",
    "        if scipy.random.rand() > p:\n",
    "            allele1 = \"a\"\n",
    "        allele2 = \"A\"\n",
    "        if scipy.random.rand() > p:\n",
    "            allele2 = \"a\"\n",
    "        population.append((allele1, allele2))\n",
    "    return population"
   ]
  },
  {
   "cell_type": "code",
   "execution_count": 2,
   "id": "4f932af2",
   "metadata": {},
   "outputs": [],
   "source": [
    "# Función 2\n",
    "def compute_frequencies(population):\n",
    "    \"\"\"\n",
    "    Count the genotypes.Returns a dictionary of genotypic frequencies.\n",
    "    \"\"\"\n",
    "    AA = population.count((\"A\", \"A\"))\n",
    "    Aa = population.count((\"A\", \"a\"))\n",
    "    aA = population.count((\"a\", \"A\"))\n",
    "    aa = population.count((\"a\", \"a\"))\n",
    "    return({\"AA\": AA, \"aa\": aa, \"Aa\": Aa, \"aA\": aA})"
   ]
  },
  {
   "cell_type": "code",
   "execution_count": 3,
   "id": "82c9e74e",
   "metadata": {},
   "outputs": [],
   "source": [
    "def reproduce_population(population):\n",
    "    \"\"\"\n",
    "    Create new generation through reproduction. For each of N new offspring:\n",
    "    - choose the parents at random, \n",
    "    - the offspring receives a chromosome from each of the parents.\n",
    "    \"\"\"\n",
    "    new_generation = []\n",
    "    N = len(population)\n",
    "    for i in range(N):\n",
    "        # random integer between 0 and N-1\n",
    "        dad = scipy.random.randint(N)\n",
    "        mom = scipy.random.randint(N)\n",
    "        # which chromosome comes from mom\n",
    "        chr_mom = scipy.random.randint(2)\n",
    "        offspring = (population[mom][chr_mom], population[dad][1 - chr_mom])\n",
    "        #if offspring == (\"a\", \"a\"): \n",
    "          #next()\n",
    "        new_generation.append(offspring)\n",
    "    return new_generation"
   ]
  },
  {
   "cell_type": "code",
   "execution_count": null,
   "id": "535c9a65",
   "metadata": {},
   "outputs": [],
   "source": []
  }
 ],
 "metadata": {
  "kernelspec": {
   "display_name": "Python 3 (ipykernel)",
   "language": "python",
   "name": "python3"
  },
  "language_info": {
   "codemirror_mode": {
    "name": "ipython",
    "version": 3
   },
   "file_extension": ".py",
   "mimetype": "text/x-python",
   "name": "python",
   "nbconvert_exporter": "python",
   "pygments_lexer": "ipython3",
   "version": "3.9.12"
  }
 },
 "nbformat": 4,
 "nbformat_minor": 5
}
